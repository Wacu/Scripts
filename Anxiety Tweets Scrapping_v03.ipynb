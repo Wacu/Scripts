{
 "cells": [
  {
   "cell_type": "code",
   "execution_count": 1,
   "metadata": {},
   "outputs": [
    {
     "name": "stdout",
     "output_type": "stream",
     "text": [
      "<[OK] Arcgis - Geocode [Kenya]>\n",
      "0.5284306580000475 37.88969855200003\n"
     ]
    },
    {
     "name": "stderr",
     "output_type": "stream",
     "text": [
      "<ipython-input-1-6f668aa4cc58>:25: FutureWarning: content is deprecated, use rawContent instead\n",
      "  tweets_list1.append([tweet.date, tweet.id, tweet.content, tweet.user.username,tweet.user.location,\\\n"
     ]
    }
   ],
   "source": [
    "# !pip3 install geocoder\n",
    "\n",
    "\n",
    "import pandas as pd\n",
    "import snscrape.modules.twitter as sntwitter\n",
    "import geocoder   # install geocoder\n",
    "\n",
    "\n",
    "def scrapp_twitter_by_location(num,keyword='',geocode=''):\n",
    "    \n",
    "    \"\"\"\n",
    "    A function to scrap twitter comments based on location\\\n",
    "    time and keyword\n",
    "    - You can change the dates\n",
    "    - Add the tweet elements\n",
    "    - Give the no of tweets \n",
    "    \n",
    "    \"\"\"\n",
    "    \n",
    "    tweets_list1 = []                                                             \n",
    "    for i,tweet in enumerate(sntwitter.TwitterSearchScraper(keyword+geocode +' since:1990-01-01 until:2022-12-31')\\\n",
    "                                 .get_items()):  \n",
    "        if i>num: \n",
    "            break\n",
    "        tweets_list1.append([tweet.date, tweet.id, tweet.content, tweet.user.username,tweet.user.location,\\\n",
    "                              tweet.url]) \n",
    "\n",
    "    tweets_df1 = pd.DataFrame(tweets_list1, columns=['Datetime', 'Tweet Id', 'Text', 'Username','location','url'])\n",
    "\n",
    "    return tweets_df1\n",
    "\n",
    "    tweets_df1.to_csv(\"anxietykenya.csv\", index=False)\n",
    "\n",
    "location= input (': Enter a location')\n",
    "#subject=[]\n",
    "#for keyword in subjects: OR anxious OR anxius anxietyattack OR panic\n",
    "\n",
    "subject= \"anxiety\"\n",
    "number=  input  (': Enter the number of tweets')\n",
    "\n",
    "cordinates= geocoder.arcgis(location)\n",
    "print(cordinates)\n",
    "print(cordinates.latlng[0],cordinates.latlng[1])\n",
    "\n",
    "scrapp_twitter_by_location(int(number),subject,f' geocode:{str(cordinates.latlng[0])},{str(cordinates.latlng[1])},1000km')\n"
   ]
  },
  {
   "cell_type": "code",
   "execution_count": null,
   "metadata": {},
   "outputs": [],
   "source": []
  }
 ],
 "metadata": {
  "kernelspec": {
   "display_name": "Python 3",
   "language": "python",
   "name": "python3"
  },
  "language_info": {
   "codemirror_mode": {
    "name": "ipython",
    "version": 3
   },
   "file_extension": ".py",
   "mimetype": "text/x-python",
   "name": "python",
   "nbconvert_exporter": "python",
   "pygments_lexer": "ipython3",
   "version": "3.8.3"
  },
  "orig_nbformat": 4,
  "vscode": {
   "interpreter": {
    "hash": "c92d63f3d47bd928936e7fc33992794c8dc954a7315ef67e1d68210e850c6bf2"
   }
  }
 },
 "nbformat": 4,
 "nbformat_minor": 2
}
